{
  "nbformat": 4,
  "nbformat_minor": 0,
  "metadata": {
    "colab": {
      "provenance": [],
      "include_colab_link": true
    },
    "kernelspec": {
      "name": "python3",
      "display_name": "Python 3"
    },
    "language_info": {
      "name": "python"
    }
  },
  "cells": [
    {
      "cell_type": "markdown",
      "metadata": {
        "id": "view-in-github",
        "colab_type": "text"
      },
      "source": [
        "<a href=\"https://colab.research.google.com/github/Harish67010/NEURAL/blob/main/Week%202%20%20700756701_ICP2.ipynb\" target=\"_parent\"><img src=\"https://colab.research.google.com/assets/colab-badge.svg\" alt=\"Open In Colab\"/></a>"
      ]
    },
    {
      "cell_type": "markdown",
      "source": [
        "1.Create a class Employee and then do the following:                                     \n"
      ],
      "metadata": {
        "id": "8fXofWx7L5Z0"
      }
    },
    {
      "cell_type": "markdown",
      "source": [
        "\n",
        "• Create a data member to count the number of Employees\n",
        "\n",
        "• Create a constructor to initialize name, family, salary, department\n",
        "\n",
        "• Create a function to average salary\n",
        "\n",
        "• Create a Fulltime Employee class and it should inherit the properties of Employee class\n",
        "\n",
        "• Create the instances of Fulltime Employee class and Employee class and call their member functions."
      ],
      "metadata": {
        "id": "Z06fbnuIMgc4"
      }
    },
    {
      "cell_type": "code",
      "execution_count": 1,
      "metadata": {
        "colab": {
          "base_uri": "https://localhost:8080/"
        },
        "id": "2EDXbfClIIpf",
        "outputId": "3d4b4733-7f5c-44ff-bfd7-60507c4ba454"
      },
      "outputs": [
        {
          "output_type": "stream",
          "name": "stdout",
          "text": [
            "Average Salary for Employees: 57500.0\n",
            "Average Salary for Fulltime Employees: 38750.0\n"
          ]
        }
      ],
      "source": [
        "class Employee:\n",
        "    employee_count = 0  # Data member to count the number of Employees\n",
        "\n",
        "    def __init__(self, name, family, salary, department):\n",
        "        self.name = name\n",
        "        self.family = family\n",
        "        self.salary = salary\n",
        "        self.department = department\n",
        "        Employee.employee_count += 1\n",
        "\n",
        "    def average_salary(self, total_salary):\n",
        "        return total_salary / Employee.employee_count\n",
        "\n",
        "class FulltimeEmployee(Employee):\n",
        "    # Inheriting properties from the Employee class\n",
        "    pass\n",
        "\n",
        "# Creating instances of Employee class\n",
        "employee1 = Employee(\"Harish goud\", \"Matta\", 150000, \"Manager\")\n",
        "employee2 = Employee(\"Nagarjun\", \"Boddupalli\", 80000, \"IT\")\n",
        "\n",
        "# Creating instances of FulltimeEmployee class\n",
        "fulltime_employee1 = FulltimeEmployee(\"Ram\", \"Palreddy\", 85000, \"Finance\")\n",
        "fulltime_employee2 = FulltimeEmployee(\"Sravan Kumar\", \"Jajam\", 70000, \"Marketing\")\n",
        "\n",
        "# Calling member functions\n",
        "total_salary_employees = employee1.salary + employee2.salary\n",
        "average_salary_employees = employee1.average_salary(total_salary_employees)\n",
        "\n",
        "total_salary_fulltime_employees = fulltime_employee1.salary + fulltime_employee2.salary\n",
        "average_salary_fulltime_employees = fulltime_employee1.average_salary(total_salary_fulltime_employees)\n",
        "\n",
        "# Displaying results\n",
        "print(\"Average Salary for Employees:\", average_salary_employees)\n",
        "print(\"Average Salary for Fulltime Employees:\", average_salary_fulltime_employees)\n",
        "\n"
      ]
    },
    {
      "cell_type": "markdown",
      "source": [
        "2.Numpy\n"
      ],
      "metadata": {
        "id": "orWKO-eIMVys"
      }
    },
    {
      "cell_type": "markdown",
      "source": [
        "Using NumPy create random vector of size 20 having only float in the range 1-20.\n",
        "\n",
        "Then reshape the array to 4 by 5\n",
        "\n",
        "Then replace the max in each row by 0 (axis=1)\n"
      ],
      "metadata": {
        "id": "pofyiiZDMlXu"
      }
    },
    {
      "cell_type": "code",
      "source": [
        "# Import the NumPy library and alias it as 'np' for brevity and convention.\n",
        "import numpy as np\n",
        "\n",
        "# Create a random vector of size 20 with floats in the range 1-20\n",
        "random_vector = np.random.uniform(1, 20, 20)\n",
        "\n",
        "print(\"Original Random Vector:\\n\", random_vector)"
      ],
      "metadata": {
        "colab": {
          "base_uri": "https://localhost:8080/"
        },
        "id": "14V2RR9YIZ_W",
        "outputId": "95c4ed97-a0c6-4ed6-92c4-2005ed3c7bd3"
      },
      "execution_count": 2,
      "outputs": [
        {
          "output_type": "stream",
          "name": "stdout",
          "text": [
            "Original Random Vector:\n",
            " [ 2.28408478 16.00130196  9.8580672   5.61146998 15.24953826  2.16666259\n",
            "  6.46913898  6.4690075   5.08855948 13.36124761  3.62741046 11.93642759\n",
            " 11.43348227 17.70288565 17.91411101 15.00328624  8.21797579  8.76009732\n",
            "  5.7242566   6.35869096]\n"
          ]
        }
      ]
    },
    {
      "cell_type": "code",
      "source": [
        "# Reshape the array to 4 by 5 (4 rows and 5 columns)\n",
        "reshaped_array = random_vector.reshape(4, 5)\n",
        "\n",
        "print(reshaped_array)"
      ],
      "metadata": {
        "colab": {
          "base_uri": "https://localhost:8080/"
        },
        "id": "wI8zxmJNJftO",
        "outputId": "e3980616-b2f5-4d8c-bd7d-f8af2ecba0c4"
      },
      "execution_count": 3,
      "outputs": [
        {
          "output_type": "stream",
          "name": "stdout",
          "text": [
            "[[ 2.28408478 16.00130196  9.8580672   5.61146998 15.24953826]\n",
            " [ 2.16666259  6.46913898  6.4690075   5.08855948 13.36124761]\n",
            " [ 3.62741046 11.93642759 11.43348227 17.70288565 17.91411101]\n",
            " [15.00328624  8.21797579  8.76009732  5.7242566   6.35869096]]\n"
          ]
        }
      ]
    },
    {
      "cell_type": "code",
      "source": [
        "\n",
        "# Replace the max in each row by 0 (axis=1)\n",
        "reshaped_array[np.arange(4), reshaped_array.argmax(axis=1)] = 0\n",
        "\n",
        "print(\"Reshaped Array:\\n\", reshaped_array)"
      ],
      "metadata": {
        "colab": {
          "base_uri": "https://localhost:8080/"
        },
        "id": "1Hkj08dpKmyY",
        "outputId": "3708847f-4aa2-4f6c-ca67-f2819a2d0d8d"
      },
      "execution_count": 4,
      "outputs": [
        {
          "output_type": "stream",
          "name": "stdout",
          "text": [
            "Reshaped Array:\n",
            " [[ 2.28408478  0.          9.8580672   5.61146998 15.24953826]\n",
            " [ 2.16666259  6.46913898  6.4690075   5.08855948  0.        ]\n",
            " [ 3.62741046 11.93642759 11.43348227 17.70288565  0.        ]\n",
            " [ 0.          8.21797579  8.76009732  5.7242566   6.35869096]]\n"
          ]
        }
      ]
    }
  ]
}